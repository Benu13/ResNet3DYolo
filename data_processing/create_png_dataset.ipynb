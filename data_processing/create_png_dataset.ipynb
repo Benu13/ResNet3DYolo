{
 "cells": [
  {
   "cell_type": "code",
   "execution_count": 1,
   "metadata": {},
   "outputs": [],
   "source": [
    "ROOT_DIR = \"/workspaces/RSNA_LSDC/inputs/rsna-2024-lumbar-spine-degenerative-classification\"\n",
    "TRAIN_DIR = f'{ROOT_DIR}/train_images'"
   ]
  },
  {
   "cell_type": "code",
   "execution_count": 20,
   "metadata": {},
   "outputs": [],
   "source": [
    "import pandas as pd\n",
    "import numpy as np\n",
    "import os\n",
    "import cv2\n",
    "import dicomsdl as dicoml\n",
    "import tqdm.notebook as tqdm\n",
    "from joblib import Parallel, delayed"
   ]
  },
  {
   "cell_type": "code",
   "execution_count": 3,
   "metadata": {},
   "outputs": [
    {
     "data": {
      "text/html": [
       "<div>\n",
       "<style scoped>\n",
       "    .dataframe tbody tr th:only-of-type {\n",
       "        vertical-align: middle;\n",
       "    }\n",
       "\n",
       "    .dataframe tbody tr th {\n",
       "        vertical-align: top;\n",
       "    }\n",
       "\n",
       "    .dataframe thead th {\n",
       "        text-align: right;\n",
       "    }\n",
       "</style>\n",
       "<table border=\"1\" class=\"dataframe\">\n",
       "  <thead>\n",
       "    <tr style=\"text-align: right;\">\n",
       "      <th></th>\n",
       "      <th>study_id</th>\n",
       "      <th>series_id</th>\n",
       "      <th>series_description</th>\n",
       "    </tr>\n",
       "  </thead>\n",
       "  <tbody>\n",
       "    <tr>\n",
       "      <th>0</th>\n",
       "      <td>4003253</td>\n",
       "      <td>702807833</td>\n",
       "      <td>Sagittal T2/STIR</td>\n",
       "    </tr>\n",
       "    <tr>\n",
       "      <th>1</th>\n",
       "      <td>4003253</td>\n",
       "      <td>1054713880</td>\n",
       "      <td>Sagittal T1</td>\n",
       "    </tr>\n",
       "    <tr>\n",
       "      <th>2</th>\n",
       "      <td>4003253</td>\n",
       "      <td>2448190387</td>\n",
       "      <td>Axial T2</td>\n",
       "    </tr>\n",
       "    <tr>\n",
       "      <th>3</th>\n",
       "      <td>4646740</td>\n",
       "      <td>3201256954</td>\n",
       "      <td>Axial T2</td>\n",
       "    </tr>\n",
       "    <tr>\n",
       "      <th>4</th>\n",
       "      <td>4646740</td>\n",
       "      <td>3486248476</td>\n",
       "      <td>Sagittal T1</td>\n",
       "    </tr>\n",
       "    <tr>\n",
       "      <th>5</th>\n",
       "      <td>4646740</td>\n",
       "      <td>3666319702</td>\n",
       "      <td>Sagittal T2/STIR</td>\n",
       "    </tr>\n",
       "    <tr>\n",
       "      <th>6</th>\n",
       "      <td>7143189</td>\n",
       "      <td>132939515</td>\n",
       "      <td>Sagittal T2/STIR</td>\n",
       "    </tr>\n",
       "    <tr>\n",
       "      <th>7</th>\n",
       "      <td>7143189</td>\n",
       "      <td>1951927562</td>\n",
       "      <td>Axial T2</td>\n",
       "    </tr>\n",
       "    <tr>\n",
       "      <th>8</th>\n",
       "      <td>7143189</td>\n",
       "      <td>3219733239</td>\n",
       "      <td>Sagittal T1</td>\n",
       "    </tr>\n",
       "    <tr>\n",
       "      <th>9</th>\n",
       "      <td>8785691</td>\n",
       "      <td>481125819</td>\n",
       "      <td>Sagittal T2/STIR</td>\n",
       "    </tr>\n",
       "  </tbody>\n",
       "</table>\n",
       "</div>"
      ],
      "text/plain": [
       "   study_id   series_id series_description\n",
       "0   4003253   702807833   Sagittal T2/STIR\n",
       "1   4003253  1054713880        Sagittal T1\n",
       "2   4003253  2448190387           Axial T2\n",
       "3   4646740  3201256954           Axial T2\n",
       "4   4646740  3486248476        Sagittal T1\n",
       "5   4646740  3666319702   Sagittal T2/STIR\n",
       "6   7143189   132939515   Sagittal T2/STIR\n",
       "7   7143189  1951927562           Axial T2\n",
       "8   7143189  3219733239        Sagittal T1\n",
       "9   8785691   481125819   Sagittal T2/STIR"
      ]
     },
     "execution_count": 3,
     "metadata": {},
     "output_type": "execute_result"
    }
   ],
   "source": [
    "tsd = pd.read_csv(f'{ROOT_DIR}/train_series_descriptions.csv')\n",
    "tsd.head(10)"
   ]
  },
  {
   "cell_type": "code",
   "execution_count": 4,
   "metadata": {},
   "outputs": [],
   "source": [
    "# Loading dicom images \n",
    "# load image with discosdl\n",
    "def load_image(filepath:str):\n",
    "    dataset = dicoml.open(filepath)\n",
    "    img = dataset.pixelData()\n",
    "\n",
    "    if dataset[\"PhotometricInterpretation\"] == \"MONOCHROME1\":\n",
    "        img = np.amax(img) - img\n",
    "\n",
    "    if np.max(img) != 0:\n",
    "        img = img / np.max(img)\n",
    "    img=(img * 255).astype(np.uint8)\n",
    "\n",
    "    return img"
   ]
  },
  {
   "cell_type": "code",
   "execution_count": 26,
   "metadata": {},
   "outputs": [],
   "source": [
    "def prepare_sample(row, png_datapath):\n",
    "    directory = f\"{TRAIN_DIR}/{row['study_id']}/{row['series_id']}\"\n",
    "    png_dir = f\"{png_datapath}/{row['study_id']}/{row['series_id']}\"\n",
    "    os.makedirs(png_dir, exist_ok=True)\n",
    "\n",
    "    for file in os.listdir(directory):\n",
    "        img = load_image(os.path.join(directory,file))\n",
    "        png_path = os.path.join(png_dir, file.replace(os.path.splitext(file)[-1].lower(), '.png'))\n",
    "        cv2.imwrite(png_path, img)"
   ]
  },
  {
   "cell_type": "code",
   "execution_count": null,
   "metadata": {},
   "outputs": [],
   "source": [
    "process_parallel = True\n",
    "if process_parallel:\n",
    "    #Parallel dataset creation\n",
    "    png_dataset_path = \"/workspaces/RSNA_LSDC/inputs/dataset\"\n",
    "    Parallel(n_jobs=24)(\n",
    "        delayed(prepare_sample)(row, png_dataset_path)\n",
    "        for ind, row in tsd.iterrows()\n",
    "    )\n",
    "else:\n",
    "    png_dataset_path = \"/workspaces/RSNA_LSDC/inputs/dataset\"\n",
    "    pbar = tqdm.tqdm(total=len(tsd.index))\n",
    "    for index, row in tsd.iterrows():\n",
    "        prepare_sample(row, png_dataset_path)\n",
    "        pbar.update(1)"
   ]
  },
  {
   "cell_type": "code",
   "execution_count": null,
   "metadata": {},
   "outputs": [],
   "source": []
  }
 ],
 "metadata": {
  "kernelspec": {
   "display_name": "base",
   "language": "python",
   "name": "python3"
  },
  "language_info": {
   "codemirror_mode": {
    "name": "ipython",
    "version": 3
   },
   "file_extension": ".py",
   "mimetype": "text/x-python",
   "name": "python",
   "nbconvert_exporter": "python",
   "pygments_lexer": "ipython3",
   "version": "3.10.14"
  }
 },
 "nbformat": 4,
 "nbformat_minor": 2
}
